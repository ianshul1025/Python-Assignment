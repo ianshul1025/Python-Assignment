{
 "cells": [
  {
   "cell_type": "markdown",
   "id": "84dc904c-b190-4f30-b7b0-cefc8ec2f1dd",
   "metadata": {},
   "source": [
    "Q1. Write all the conventions being followed while declaring a variable."
   ]
  },
  {
   "cell_type": "code",
   "execution_count": 12,
   "id": "2fceae24-9a76-479e-b845-610b8c8a7c13",
   "metadata": {},
   "outputs": [],
   "source": [
    "#When declaring a variable in Python,the fowllowing convemtions are generally followed:\n",
    "\n",
    "#The variable name should start with a letter or underscore.\n",
    "#Subsequent characters in the variable name can be letters, underscores, or numbers.\n",
    "#Variable names are case sensitive.\n",
    "#Variable names should be descriptive and meaningful.\n",
    "#Avoid using reserved keywords as variable names."
   ]
  },
  {
   "cell_type": "markdown",
   "id": "ec16a9fb-7c73-40bc-8129-92f5831bcf88",
   "metadata": {},
   "source": [
    "Q2. What will happen if we declare a restricted keyword as a variable?"
   ]
  },
  {
   "cell_type": "code",
   "execution_count": 26,
   "id": "4e4c08cb-8f46-4d9f-bef1-5c3f9d8cd969",
   "metadata": {},
   "outputs": [
    {
     "ename": "SyntaxError",
     "evalue": "invalid syntax (3888056792.py, line 1)",
     "output_type": "error",
     "traceback": [
      "\u001b[0;36m  Cell \u001b[0;32mIn[26], line 1\u001b[0;36m\u001b[0m\n\u001b[0;31m    class = \"Hello\"\u001b[0m\n\u001b[0m          ^\u001b[0m\n\u001b[0;31mSyntaxError\u001b[0m\u001b[0;31m:\u001b[0m invalid syntax\n"
     ]
    }
   ],
   "source": [
    "class = \"Hello\"\n",
    "\n",
    "#Jupyter notebook will highlight the word \"class\" in this code cell.\n",
    "#Because it is restricted keyword in Python.\n",
    "#If we try to run this cell, we will get a SyntaxError\n",
    "#Because we cannot use a restricted keyword as a variable name."
   ]
  },
  {
   "cell_type": "markdown",
   "id": "42da6c20-ab85-479c-b560-30b70b19a7a9",
   "metadata": {},
   "source": [
    "Q3. Can we actually declare a string as a variable name?"
   ]
  },
  {
   "cell_type": "code",
   "execution_count": 9,
   "id": "45cbff9e-d274-4301-8fd2-9a85fc2df972",
   "metadata": {},
   "outputs": [
    {
     "ename": "SyntaxError",
     "evalue": "cannot assign to literal here. Maybe you meant '==' instead of '='? (3317559567.py, line 1)",
     "output_type": "error",
     "traceback": [
      "\u001b[0;36m  Cell \u001b[0;32mIn[9], line 1\u001b[0;36m\u001b[0m\n\u001b[0;31m    \"This is my variable name\" = 5\u001b[0m\n\u001b[0m    ^\u001b[0m\n\u001b[0;31mSyntaxError\u001b[0m\u001b[0;31m:\u001b[0m cannot assign to literal here. Maybe you meant '==' instead of '='?\n"
     ]
    }
   ],
   "source": [
    "\"This is my variable name\" = 5\n",
    "\n",
    "#Jupyter notebook will highlight the string \"This is my variable name\" in this code cell.\n",
    "#As it is not a valid variable name in Python.\n",
    "#We cannot declare a string as a variable name."
   ]
  },
  {
   "cell_type": "markdown",
   "id": "187702c7-cdb6-427d-92b2-53f2c3ae21ef",
   "metadata": {},
   "source": [
    "Q4. Is it possible for us to declare “_” as a variable? If so, then write an example of it."
   ]
  },
  {
   "cell_type": "code",
   "execution_count": 25,
   "id": "1499b47d-d3ff-4fcd-8441-ab07b5be4008",
   "metadata": {},
   "outputs": [],
   "source": [
    "_ = 5\n",
    "\n",
    "#This is a valid variable declaration in Python, and the value of the variable is 5.\n",
    "#The underscore character can be used as a variable name in Python.\n",
    "#But it is usually reserved for special purposes."
   ]
  },
  {
   "cell_type": "markdown",
   "id": "4075608d-05b4-49b5-9165-234e32670f9d",
   "metadata": {},
   "source": [
    "Q5. Using an example, explain how the variables in python are dynamic in nature."
   ]
  },
  {
   "cell_type": "code",
   "execution_count": 17,
   "id": "be114e09-8c7b-437c-951b-bad7115d0ace",
   "metadata": {},
   "outputs": [],
   "source": [
    "#Defining a variable\n",
    "x = 5"
   ]
  },
  {
   "cell_type": "code",
   "execution_count": 18,
   "id": "86574299-3f94-4332-9403-d2e090d6c9de",
   "metadata": {},
   "outputs": [
    {
     "name": "stdout",
     "output_type": "stream",
     "text": [
      "5\n"
     ]
    }
   ],
   "source": [
    "#Printing the value of variable\n",
    "print(x)"
   ]
  },
  {
   "cell_type": "code",
   "execution_count": 19,
   "id": "d14cae68-1cd3-4af5-b05e-d2c51064e966",
   "metadata": {},
   "outputs": [],
   "source": [
    "#Updating the value of the variable\n",
    "x = 10"
   ]
  },
  {
   "cell_type": "code",
   "execution_count": 20,
   "id": "f6d85ea0-e0a7-4248-8f72-0a4f0fdfd376",
   "metadata": {},
   "outputs": [
    {
     "name": "stdout",
     "output_type": "stream",
     "text": [
      "10\n"
     ]
    }
   ],
   "source": [
    "#Printing the value of the same variable again\n",
    "print(x)"
   ]
  },
  {
   "cell_type": "code",
   "execution_count": 24,
   "id": "0912c003-292f-4311-9b88-607b2bec0c23",
   "metadata": {},
   "outputs": [],
   "source": [
    "#Summary:\n",
    "\n",
    "#This example shows that variables in Python are dynamic in nature.\n",
    "#It can have their values changed anytime during program execution."
   ]
  }
 ],
 "metadata": {
  "kernelspec": {
   "display_name": "Python 3 (ipykernel)",
   "language": "python",
   "name": "python3"
  },
  "language_info": {
   "codemirror_mode": {
    "name": "ipython",
    "version": 3
   },
   "file_extension": ".py",
   "mimetype": "text/x-python",
   "name": "python",
   "nbconvert_exporter": "python",
   "pygments_lexer": "ipython3",
   "version": "3.10.8"
  }
 },
 "nbformat": 4,
 "nbformat_minor": 5
}
